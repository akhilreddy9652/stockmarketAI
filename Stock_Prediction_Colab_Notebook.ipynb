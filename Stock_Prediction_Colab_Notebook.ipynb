{
  "cells": [
    {
      "cell_type": "raw",
      "metadata": {
        "vscode": {
          "languageId": "raw"
        }
      },
      "source": [
        "# 🚀 Stock Prediction with FREE GPU - Google Colab\n",
        "\n",
        "Welcome! This notebook will help you run your stock prediction system with GPU acceleration - completely FREE!\n",
        "\n",
        "## 📋 Quick Setup Steps:\n",
        "1. **Enable GPU** (Runtime → Change runtime type → GPU)\n",
        "2. **Run all cells** below\n",
        "3. **Start predicting!**\n"
      ]
    },
    {
      "cell_type": "code",
      "execution_count": null,
      "metadata": {},
      "outputs": [],
      "source": [
        "# Check if GPU is enabled\n",
        "import tensorflow as tf\n",
        "\n",
        "print(\"🔍 Checking GPU availability...\\n\")\n",
        "\n",
        "# TensorFlow GPU check\n",
        "gpu_available = tf.config.list_physical_devices('GPU')\n",
        "if gpu_available:\n",
        "    print(\"✅ GPU is available!\")\n",
        "    for device in gpu_available:\n",
        "        print(f\"   Device: {device}\")\n",
        "else:\n",
        "    print(\"❌ No GPU detected. Please enable GPU:\")\n",
        "    print(\"   Runtime → Change runtime type → Hardware accelerator → GPU\")\n"
      ]
    },
    {
      "cell_type": "code",
      "execution_count": null,
      "metadata": {},
      "outputs": [],
      "source": [
        "# Install required packages\n",
        "!pip install yfinance pandas numpy scikit-learn tensorflow matplotlib -q\n",
        "print(\"✅ Packages installed!\")\n"
      ]
    },
    {
      "cell_type": "code",
      "execution_count": null,
      "metadata": {},
      "outputs": [],
      "source": [
        "# Quick Stock Prediction Demo with GPU\n",
        "import yfinance as yf\n",
        "import pandas as pd\n",
        "import numpy as np\n",
        "from datetime import datetime, timedelta\n",
        "\n",
        "# Fetch Indian stock data\n",
        "symbol = 'RELIANCE.NS'  # You can change to any stock\n",
        "print(f\"📈 Fetching data for {symbol}...\")\n",
        "\n",
        "df = yf.download(symbol, period='1y', progress=False)\n",
        "print(f\"✅ Loaded {len(df)} records\")\n",
        "print(f\"\\nRecent prices:\")\n",
        "print(df.tail())\n"
      ]
    },
    {
      "cell_type": "code",
      "execution_count": null,
      "metadata": {},
      "outputs": [],
      "source": [
        "# Build and train a simple LSTM model with GPU\n",
        "from tensorflow.keras.models import Sequential\n",
        "from tensorflow.keras.layers import LSTM, Dense, Dropout\n",
        "from sklearn.preprocessing import MinMaxScaler\n",
        "import time\n",
        "\n",
        "# Prepare data\n",
        "scaler = MinMaxScaler()\n",
        "scaled_data = scaler.fit_transform(df[['Close']].values)\n",
        "\n",
        "# Create sequences\n",
        "X, y = [], []\n",
        "for i in range(20, len(scaled_data)):\n",
        "    X.append(scaled_data[i-20:i, 0])\n",
        "    y.append(scaled_data[i, 0])\n",
        "X, y = np.array(X), np.array(y)\n",
        "X = X.reshape(X.shape[0], X.shape[1], 1)\n",
        "\n",
        "# Build model\n",
        "model = Sequential([\n",
        "    LSTM(50, return_sequences=True, input_shape=(20, 1)),\n",
        "    Dropout(0.2),\n",
        "    LSTM(50),\n",
        "    Dropout(0.2),\n",
        "    Dense(1)\n",
        "])\n",
        "\n",
        "model.compile(optimizer='adam', loss='mse')\n",
        "print(\"🚀 Model ready for GPU training!\")\n",
        "\n",
        "# Train with GPU\n",
        "start = time.time()\n",
        "model.fit(X, y, epochs=10, batch_size=32, verbose=1)\n",
        "print(f\"\\n✅ Training completed in {time.time()-start:.1f} seconds with GPU!\")\n"
      ]
    }
  ],
  "metadata": {
    "language_info": {
      "name": "python"
    }
  },
  "nbformat": 4,
  "nbformat_minor": 2
}
