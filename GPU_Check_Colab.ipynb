{
  "cells": [
    {
      "cell_type": "code",
      "execution_count": null,
      "metadata": {},
      "outputs": [],
      "source": [
        "# Check if GPU is enabled\n",
        "import tensorflow as tf\n",
        "\n",
        "print(\"🔍 Checking GPU status...\")\n",
        "print(\"-\" * 40)\n",
        "\n",
        "# Check TensorFlow GPU\n",
        "gpu_devices = tf.config.list_physical_devices('GPU')\n",
        "if gpu_devices:\n",
        "    print(\"✅ GPU is ACTIVE!\")\n",
        "    for device in gpu_devices:\n",
        "        print(f\"   📱 Device: {device}\")\n",
        "    \n",
        "    # Get GPU name\n",
        "    gpu_name = tf.config.experimental.get_device_details(gpu_devices[0])['device_name']\n",
        "    print(f\"   🎯 GPU Name: {gpu_name}\")\n",
        "    \n",
        "    # Check memory\n",
        "    print(f\"   💾 GPU Memory: Available\")\n",
        "    \n",
        "else:\n",
        "    print(\"❌ No GPU detected!\")\n",
        "    print(\"   Please enable GPU:\")\n",
        "    print(\"   Runtime → Change runtime type → GPU → Save\")\n",
        "\n",
        "print(\"\\n\" + \"=\" * 40)\n",
        "print(\"🎉 If you see ✅ above, you're ready for GPU acceleration!\")\n"
      ]
    }
  ],
  "metadata": {
    "language_info": {
      "name": "python"
    }
  },
  "nbformat": 4,
  "nbformat_minor": 2
}
